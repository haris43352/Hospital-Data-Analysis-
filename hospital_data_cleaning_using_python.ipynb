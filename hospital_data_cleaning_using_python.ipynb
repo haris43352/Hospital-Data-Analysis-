{
 "cells": [
  {
   "cell_type": "code",
   "execution_count": 230,
   "id": "bc416226-c72b-423f-a5d0-bcefe6bb7baf",
   "metadata": {},
   "outputs": [],
   "source": [
    "import pandas as pd"
   ]
  },
  {
   "cell_type": "markdown",
   "id": "2666db23-7ed3-49d5-af13-c307890a53e9",
   "metadata": {},
   "source": [
    "# Step1"
   ]
  },
  {
   "cell_type": "code",
   "execution_count": 254,
   "id": "63cb1ade-b000-419f-ac3e-638a951dab95",
   "metadata": {},
   "outputs": [],
   "source": [
    "df=pd.read_csv(\"Hospital_ED_Data.csv\")"
   ]
  },
  {
   "cell_type": "code",
   "execution_count": 255,
   "id": "685b1e0a-2876-4747-a4fd-599db0a59a62",
   "metadata": {},
   "outputs": [
    {
     "data": {
      "text/html": [
       "<div>\n",
       "<style scoped>\n",
       "    .dataframe tbody tr th:only-of-type {\n",
       "        vertical-align: middle;\n",
       "    }\n",
       "\n",
       "    .dataframe tbody tr th {\n",
       "        vertical-align: top;\n",
       "    }\n",
       "\n",
       "    .dataframe thead th {\n",
       "        text-align: right;\n",
       "    }\n",
       "</style>\n",
       "<table border=\"1\" class=\"dataframe\">\n",
       "  <thead>\n",
       "    <tr style=\"text-align: right;\">\n",
       "      <th></th>\n",
       "      <th>PatientID</th>\n",
       "      <th>ArrivalTime</th>\n",
       "      <th>TriageLevel</th>\n",
       "      <th>TreatmentStart</th>\n",
       "      <th>TreatmentEnd</th>\n",
       "      <th>TreatmentType</th>\n",
       "      <th>DoctorID</th>\n",
       "      <th>Outcome</th>\n",
       "      <th>SatisfactionScore</th>\n",
       "      <th>Feedback</th>\n",
       "      <th>RoomID</th>\n",
       "    </tr>\n",
       "  </thead>\n",
       "  <tbody>\n",
       "    <tr>\n",
       "      <th>0</th>\n",
       "      <td>P001</td>\n",
       "      <td>01/01/2024 08:00 AM</td>\n",
       "      <td>High</td>\n",
       "      <td>NaN</td>\n",
       "      <td>2024-01-01 10:41:00</td>\n",
       "      <td>Surgery</td>\n",
       "      <td>D103</td>\n",
       "      <td>Recovered</td>\n",
       "      <td>2.0</td>\n",
       "      <td>NaN</td>\n",
       "      <td>R015</td>\n",
       "    </tr>\n",
       "    <tr>\n",
       "      <th>1</th>\n",
       "      <td>P002</td>\n",
       "      <td>01/01/2024 08:10 AM</td>\n",
       "      <td>Medium</td>\n",
       "      <td>2024-01-01 10:14:00</td>\n",
       "      <td>2024-01-01 10:47:00</td>\n",
       "      <td>Medication</td>\n",
       "      <td>D102</td>\n",
       "      <td>Recoverd</td>\n",
       "      <td>4.0</td>\n",
       "      <td>NaN</td>\n",
       "      <td>R018</td>\n",
       "    </tr>\n",
       "    <tr>\n",
       "      <th>2</th>\n",
       "      <td>P003</td>\n",
       "      <td>2024-01-01 08:20:00</td>\n",
       "      <td>High</td>\n",
       "      <td>2024-01-01 08:33:00</td>\n",
       "      <td>2024-01-01 10:15:00</td>\n",
       "      <td>Consultation</td>\n",
       "      <td>D105</td>\n",
       "      <td>Recovered</td>\n",
       "      <td>5.0</td>\n",
       "      <td>Long wait time</td>\n",
       "      <td>R014</td>\n",
       "    </tr>\n",
       "    <tr>\n",
       "      <th>3</th>\n",
       "      <td>P004</td>\n",
       "      <td>01/01/2024 08:30 AM</td>\n",
       "      <td>High</td>\n",
       "      <td>2024-01-01 09:32:00</td>\n",
       "      <td>2024-01-01 09:44:00</td>\n",
       "      <td>Surgery</td>\n",
       "      <td>D101</td>\n",
       "      <td>Recoverd</td>\n",
       "      <td>1.0</td>\n",
       "      <td>Long wait time</td>\n",
       "      <td>R016</td>\n",
       "    </tr>\n",
       "    <tr>\n",
       "      <th>4</th>\n",
       "      <td>P005</td>\n",
       "      <td>2024-01-01 08:40:00</td>\n",
       "      <td>Low</td>\n",
       "      <td>2024-01-01 09:56:00</td>\n",
       "      <td>2024-01-01 09:13:00</td>\n",
       "      <td>Consultation</td>\n",
       "      <td>D104</td>\n",
       "      <td>Deceased</td>\n",
       "      <td>NaN</td>\n",
       "      <td>Too slow</td>\n",
       "      <td>R009</td>\n",
       "    </tr>\n",
       "  </tbody>\n",
       "</table>\n",
       "</div>"
      ],
      "text/plain": [
       "  PatientID          ArrivalTime TriageLevel       TreatmentStart  \\\n",
       "0      P001  01/01/2024 08:00 AM        High                  NaN   \n",
       "1      P002  01/01/2024 08:10 AM      Medium  2024-01-01 10:14:00   \n",
       "2      P003  2024-01-01 08:20:00        High  2024-01-01 08:33:00   \n",
       "3      P004  01/01/2024 08:30 AM        High  2024-01-01 09:32:00   \n",
       "4      P005  2024-01-01 08:40:00         Low  2024-01-01 09:56:00   \n",
       "\n",
       "          TreatmentEnd TreatmentType DoctorID    Outcome  SatisfactionScore  \\\n",
       "0  2024-01-01 10:41:00       Surgery     D103  Recovered                2.0   \n",
       "1  2024-01-01 10:47:00    Medication     D102   Recoverd                4.0   \n",
       "2  2024-01-01 10:15:00  Consultation     D105  Recovered                5.0   \n",
       "3  2024-01-01 09:44:00       Surgery     D101   Recoverd                1.0   \n",
       "4  2024-01-01 09:13:00  Consultation     D104   Deceased                NaN   \n",
       "\n",
       "         Feedback RoomID  \n",
       "0             NaN   R015  \n",
       "1             NaN   R018  \n",
       "2  Long wait time   R014  \n",
       "3  Long wait time   R016  \n",
       "4        Too slow   R009  "
      ]
     },
     "execution_count": 255,
     "metadata": {},
     "output_type": "execute_result"
    }
   ],
   "source": [
    "df.head()"
   ]
  },
  {
   "cell_type": "code",
   "execution_count": 256,
   "id": "bbde0835-d270-4652-a956-db9867485251",
   "metadata": {},
   "outputs": [
    {
     "data": {
      "text/plain": [
       "Index(['PatientID', 'ArrivalTime', 'TriageLevel', 'TreatmentStart',\n",
       "       'TreatmentEnd', 'TreatmentType', 'DoctorID', 'Outcome',\n",
       "       'SatisfactionScore', 'Feedback', 'RoomID'],\n",
       "      dtype='object')"
      ]
     },
     "execution_count": 256,
     "metadata": {},
     "output_type": "execute_result"
    }
   ],
   "source": [
    "df.columns"
   ]
  },
  {
   "cell_type": "code",
   "execution_count": 257,
   "id": "066d7fd6-b203-4f78-85b4-b405cf1f16fb",
   "metadata": {},
   "outputs": [
    {
     "data": {
      "text/plain": [
       "(155, 11)"
      ]
     },
     "execution_count": 257,
     "metadata": {},
     "output_type": "execute_result"
    }
   ],
   "source": [
    "df.shape"
   ]
  },
  {
   "cell_type": "code",
   "execution_count": 258,
   "id": "4e0c714c-9506-4c54-8df1-240c98465011",
   "metadata": {},
   "outputs": [
    {
     "data": {
      "text/plain": [
       "PatientID             object\n",
       "ArrivalTime           object\n",
       "TriageLevel           object\n",
       "TreatmentStart        object\n",
       "TreatmentEnd          object\n",
       "TreatmentType         object\n",
       "DoctorID              object\n",
       "Outcome               object\n",
       "SatisfactionScore    float64\n",
       "Feedback              object\n",
       "RoomID                object\n",
       "dtype: object"
      ]
     },
     "execution_count": 258,
     "metadata": {},
     "output_type": "execute_result"
    }
   ],
   "source": [
    "df.dtypes"
   ]
  },
  {
   "cell_type": "code",
   "execution_count": 259,
   "id": "3f88c682-2a3d-45f6-8580-9ce02b5050b1",
   "metadata": {},
   "outputs": [
    {
     "name": "stdout",
     "output_type": "stream",
     "text": [
      "<class 'pandas.core.frame.DataFrame'>\n",
      "RangeIndex: 155 entries, 0 to 154\n",
      "Data columns (total 11 columns):\n",
      " #   Column             Non-Null Count  Dtype  \n",
      "---  ------             --------------  -----  \n",
      " 0   PatientID          155 non-null    object \n",
      " 1   ArrivalTime        155 non-null    object \n",
      " 2   TriageLevel        155 non-null    object \n",
      " 3   TreatmentStart     135 non-null    object \n",
      " 4   TreatmentEnd       144 non-null    object \n",
      " 5   TreatmentType      155 non-null    object \n",
      " 6   DoctorID           155 non-null    object \n",
      " 7   Outcome            155 non-null    object \n",
      " 8   SatisfactionScore  129 non-null    float64\n",
      " 9   Feedback           120 non-null    object \n",
      " 10  RoomID             155 non-null    object \n",
      "dtypes: float64(1), object(10)\n",
      "memory usage: 13.4+ KB\n"
     ]
    }
   ],
   "source": [
    "df.info()"
   ]
  },
  {
   "cell_type": "markdown",
   "id": "d32bc5b4-3638-47fa-b283-2a69a765e713",
   "metadata": {},
   "source": [
    "# step 2"
   ]
  },
  {
   "cell_type": "code",
   "execution_count": 260,
   "id": "d1c01007-00cd-47af-a50e-e36993b2a266",
   "metadata": {},
   "outputs": [],
   "source": [
    "# df['ArrivalTime']=pd.to_datetime(df['ArrivalTime'],errors='coerce')"
   ]
  },
  {
   "cell_type": "code",
   "execution_count": 261,
   "id": "73a10066-3e6d-4220-a803-710e62be8653",
   "metadata": {},
   "outputs": [],
   "source": [
    "# df['ArrivalTime'].dtype"
   ]
  },
  {
   "cell_type": "code",
   "execution_count": 262,
   "id": "88023d7e-f3fc-438f-85d8-ecc3fd241225",
   "metadata": {},
   "outputs": [
    {
     "name": "stdout",
     "output_type": "stream",
     "text": [
      "<class 'pandas.core.frame.DataFrame'>\n",
      "RangeIndex: 155 entries, 0 to 154\n",
      "Data columns (total 11 columns):\n",
      " #   Column             Non-Null Count  Dtype  \n",
      "---  ------             --------------  -----  \n",
      " 0   PatientID          155 non-null    object \n",
      " 1   ArrivalTime        155 non-null    object \n",
      " 2   TriageLevel        155 non-null    object \n",
      " 3   TreatmentStart     135 non-null    object \n",
      " 4   TreatmentEnd       144 non-null    object \n",
      " 5   TreatmentType      155 non-null    object \n",
      " 6   DoctorID           155 non-null    object \n",
      " 7   Outcome            155 non-null    object \n",
      " 8   SatisfactionScore  129 non-null    float64\n",
      " 9   Feedback           120 non-null    object \n",
      " 10  RoomID             155 non-null    object \n",
      "dtypes: float64(1), object(10)\n",
      "memory usage: 13.4+ KB\n"
     ]
    }
   ],
   "source": [
    "df.info()"
   ]
  },
  {
   "cell_type": "code",
   "execution_count": 240,
   "id": "b5bc1d7b-5044-454f-a8a4-798662b8eb51",
   "metadata": {},
   "outputs": [],
   "source": [
    "# df[\"TreatmentEnd\"]=pd.to_datetime(df[\"TreatmentEnd\"])"
   ]
  },
  {
   "cell_type": "code",
   "execution_count": 241,
   "id": "fcef800c-f5b1-4981-9d0c-3226cb02615c",
   "metadata": {},
   "outputs": [],
   "source": [
    "# df[\"TreatmentStart\"]=pd.to_datetime(df[\"TreatmentStart\"])"
   ]
  },
  {
   "cell_type": "code",
   "execution_count": 263,
   "id": "791667dc-c4ba-4492-8220-09f358630fbe",
   "metadata": {},
   "outputs": [],
   "source": [
    "missing_value=df.isnull()"
   ]
  },
  {
   "cell_type": "code",
   "execution_count": 264,
   "id": "637ce9e5-8a10-4da5-8403-ccf727adecba",
   "metadata": {},
   "outputs": [
    {
     "data": {
      "text/html": [
       "<div>\n",
       "<style scoped>\n",
       "    .dataframe tbody tr th:only-of-type {\n",
       "        vertical-align: middle;\n",
       "    }\n",
       "\n",
       "    .dataframe tbody tr th {\n",
       "        vertical-align: top;\n",
       "    }\n",
       "\n",
       "    .dataframe thead th {\n",
       "        text-align: right;\n",
       "    }\n",
       "</style>\n",
       "<table border=\"1\" class=\"dataframe\">\n",
       "  <thead>\n",
       "    <tr style=\"text-align: right;\">\n",
       "      <th></th>\n",
       "      <th>PatientID</th>\n",
       "      <th>ArrivalTime</th>\n",
       "      <th>TriageLevel</th>\n",
       "      <th>TreatmentStart</th>\n",
       "      <th>TreatmentEnd</th>\n",
       "      <th>TreatmentType</th>\n",
       "      <th>DoctorID</th>\n",
       "      <th>Outcome</th>\n",
       "      <th>SatisfactionScore</th>\n",
       "      <th>Feedback</th>\n",
       "      <th>RoomID</th>\n",
       "    </tr>\n",
       "  </thead>\n",
       "  <tbody>\n",
       "    <tr>\n",
       "      <th>0</th>\n",
       "      <td>False</td>\n",
       "      <td>False</td>\n",
       "      <td>False</td>\n",
       "      <td>True</td>\n",
       "      <td>False</td>\n",
       "      <td>False</td>\n",
       "      <td>False</td>\n",
       "      <td>False</td>\n",
       "      <td>False</td>\n",
       "      <td>True</td>\n",
       "      <td>False</td>\n",
       "    </tr>\n",
       "    <tr>\n",
       "      <th>1</th>\n",
       "      <td>False</td>\n",
       "      <td>False</td>\n",
       "      <td>False</td>\n",
       "      <td>False</td>\n",
       "      <td>False</td>\n",
       "      <td>False</td>\n",
       "      <td>False</td>\n",
       "      <td>False</td>\n",
       "      <td>False</td>\n",
       "      <td>True</td>\n",
       "      <td>False</td>\n",
       "    </tr>\n",
       "    <tr>\n",
       "      <th>2</th>\n",
       "      <td>False</td>\n",
       "      <td>False</td>\n",
       "      <td>False</td>\n",
       "      <td>False</td>\n",
       "      <td>False</td>\n",
       "      <td>False</td>\n",
       "      <td>False</td>\n",
       "      <td>False</td>\n",
       "      <td>False</td>\n",
       "      <td>False</td>\n",
       "      <td>False</td>\n",
       "    </tr>\n",
       "    <tr>\n",
       "      <th>3</th>\n",
       "      <td>False</td>\n",
       "      <td>False</td>\n",
       "      <td>False</td>\n",
       "      <td>False</td>\n",
       "      <td>False</td>\n",
       "      <td>False</td>\n",
       "      <td>False</td>\n",
       "      <td>False</td>\n",
       "      <td>False</td>\n",
       "      <td>False</td>\n",
       "      <td>False</td>\n",
       "    </tr>\n",
       "    <tr>\n",
       "      <th>4</th>\n",
       "      <td>False</td>\n",
       "      <td>False</td>\n",
       "      <td>False</td>\n",
       "      <td>False</td>\n",
       "      <td>False</td>\n",
       "      <td>False</td>\n",
       "      <td>False</td>\n",
       "      <td>False</td>\n",
       "      <td>True</td>\n",
       "      <td>False</td>\n",
       "      <td>False</td>\n",
       "    </tr>\n",
       "    <tr>\n",
       "      <th>...</th>\n",
       "      <td>...</td>\n",
       "      <td>...</td>\n",
       "      <td>...</td>\n",
       "      <td>...</td>\n",
       "      <td>...</td>\n",
       "      <td>...</td>\n",
       "      <td>...</td>\n",
       "      <td>...</td>\n",
       "      <td>...</td>\n",
       "      <td>...</td>\n",
       "      <td>...</td>\n",
       "    </tr>\n",
       "    <tr>\n",
       "      <th>150</th>\n",
       "      <td>False</td>\n",
       "      <td>False</td>\n",
       "      <td>False</td>\n",
       "      <td>False</td>\n",
       "      <td>False</td>\n",
       "      <td>False</td>\n",
       "      <td>False</td>\n",
       "      <td>False</td>\n",
       "      <td>False</td>\n",
       "      <td>False</td>\n",
       "      <td>False</td>\n",
       "    </tr>\n",
       "    <tr>\n",
       "      <th>151</th>\n",
       "      <td>False</td>\n",
       "      <td>False</td>\n",
       "      <td>False</td>\n",
       "      <td>False</td>\n",
       "      <td>False</td>\n",
       "      <td>False</td>\n",
       "      <td>False</td>\n",
       "      <td>False</td>\n",
       "      <td>False</td>\n",
       "      <td>False</td>\n",
       "      <td>False</td>\n",
       "    </tr>\n",
       "    <tr>\n",
       "      <th>152</th>\n",
       "      <td>False</td>\n",
       "      <td>False</td>\n",
       "      <td>False</td>\n",
       "      <td>False</td>\n",
       "      <td>False</td>\n",
       "      <td>False</td>\n",
       "      <td>False</td>\n",
       "      <td>False</td>\n",
       "      <td>False</td>\n",
       "      <td>False</td>\n",
       "      <td>False</td>\n",
       "    </tr>\n",
       "    <tr>\n",
       "      <th>153</th>\n",
       "      <td>False</td>\n",
       "      <td>False</td>\n",
       "      <td>False</td>\n",
       "      <td>False</td>\n",
       "      <td>False</td>\n",
       "      <td>False</td>\n",
       "      <td>False</td>\n",
       "      <td>False</td>\n",
       "      <td>False</td>\n",
       "      <td>False</td>\n",
       "      <td>False</td>\n",
       "    </tr>\n",
       "    <tr>\n",
       "      <th>154</th>\n",
       "      <td>False</td>\n",
       "      <td>False</td>\n",
       "      <td>False</td>\n",
       "      <td>False</td>\n",
       "      <td>False</td>\n",
       "      <td>False</td>\n",
       "      <td>False</td>\n",
       "      <td>False</td>\n",
       "      <td>True</td>\n",
       "      <td>True</td>\n",
       "      <td>False</td>\n",
       "    </tr>\n",
       "  </tbody>\n",
       "</table>\n",
       "<p>155 rows × 11 columns</p>\n",
       "</div>"
      ],
      "text/plain": [
       "     PatientID  ArrivalTime  TriageLevel  TreatmentStart  TreatmentEnd  \\\n",
       "0        False        False        False            True         False   \n",
       "1        False        False        False           False         False   \n",
       "2        False        False        False           False         False   \n",
       "3        False        False        False           False         False   \n",
       "4        False        False        False           False         False   \n",
       "..         ...          ...          ...             ...           ...   \n",
       "150      False        False        False           False         False   \n",
       "151      False        False        False           False         False   \n",
       "152      False        False        False           False         False   \n",
       "153      False        False        False           False         False   \n",
       "154      False        False        False           False         False   \n",
       "\n",
       "     TreatmentType  DoctorID  Outcome  SatisfactionScore  Feedback  RoomID  \n",
       "0            False     False    False              False      True   False  \n",
       "1            False     False    False              False      True   False  \n",
       "2            False     False    False              False     False   False  \n",
       "3            False     False    False              False     False   False  \n",
       "4            False     False    False               True     False   False  \n",
       "..             ...       ...      ...                ...       ...     ...  \n",
       "150          False     False    False              False     False   False  \n",
       "151          False     False    False              False     False   False  \n",
       "152          False     False    False              False     False   False  \n",
       "153          False     False    False              False     False   False  \n",
       "154          False     False    False               True      True   False  \n",
       "\n",
       "[155 rows x 11 columns]"
      ]
     },
     "execution_count": 264,
     "metadata": {},
     "output_type": "execute_result"
    }
   ],
   "source": [
    "missing_value"
   ]
  },
  {
   "cell_type": "code",
   "execution_count": 267,
   "id": "b3329e9d-2f9b-46e5-8c45-1876aacee7dc",
   "metadata": {},
   "outputs": [
    {
     "data": {
      "text/plain": [
       "0      01/01/2024 08:00 AM\n",
       "1      01/01/2024 08:10 AM\n",
       "2      2024-01-01 08:20:00\n",
       "3      01/01/2024 08:30 AM\n",
       "4      2024-01-01 08:40:00\n",
       "              ...         \n",
       "150    2024-01-01 08:40:00\n",
       "151    2024-01-01 11:50:00\n",
       "152    01/01/2024 03:10 PM\n",
       "153    01/01/2024 02:40 PM\n",
       "154    01/01/2024 11:00 AM\n",
       "Name: ArrivalTime, Length: 155, dtype: object"
      ]
     },
     "execution_count": 267,
     "metadata": {},
     "output_type": "execute_result"
    }
   ],
   "source": [
    "df.ArrivalTime"
   ]
  },
  {
   "cell_type": "code",
   "execution_count": 266,
   "id": "b6ca95be-2c6b-42a8-8aa1-e579a721d199",
   "metadata": {},
   "outputs": [
    {
     "name": "stdout",
     "output_type": "stream",
     "text": [
      "PatientID\n",
      "False    155\n",
      "Name: count, dtype: int64\n",
      "ArrivalTime\n",
      "False    155\n",
      "Name: count, dtype: int64\n",
      "TriageLevel\n",
      "False    155\n",
      "Name: count, dtype: int64\n",
      "TreatmentStart\n",
      "False    135\n",
      "True      20\n",
      "Name: count, dtype: int64\n",
      "TreatmentEnd\n",
      "False    144\n",
      "True      11\n",
      "Name: count, dtype: int64\n",
      "TreatmentType\n",
      "False    155\n",
      "Name: count, dtype: int64\n",
      "DoctorID\n",
      "False    155\n",
      "Name: count, dtype: int64\n",
      "Outcome\n",
      "False    155\n",
      "Name: count, dtype: int64\n",
      "SatisfactionScore\n",
      "False    129\n",
      "True      26\n",
      "Name: count, dtype: int64\n",
      "Feedback\n",
      "False    120\n",
      "True      35\n",
      "Name: count, dtype: int64\n",
      "RoomID\n",
      "False    155\n",
      "Name: count, dtype: int64\n"
     ]
    }
   ],
   "source": [
    "for columns in missing_value:\n",
    "    print (missing_value[columns].value_counts())"
   ]
  },
  {
   "cell_type": "code",
   "execution_count": 247,
   "id": "9aa11fbb-049c-4d52-b574-2e69ce25b1dc",
   "metadata": {},
   "outputs": [],
   "source": [
    "df.TreatmentStart.ffill(inplace=True)"
   ]
  },
  {
   "cell_type": "code",
   "execution_count": 248,
   "id": "1f7ebeb1-8e59-421f-bb62-77ce0df0ef5e",
   "metadata": {},
   "outputs": [],
   "source": [
    "df.TreatmentEnd.ffill(inplace=True)"
   ]
  },
  {
   "cell_type": "code",
   "execution_count": 249,
   "id": "a434589e-fb2b-42ec-be8e-5fb24156155c",
   "metadata": {},
   "outputs": [],
   "source": [
    "mean_sar=df['SatisfactionScore'].mean()"
   ]
  },
  {
   "cell_type": "code",
   "execution_count": 250,
   "id": "7cf3b5b3-59f5-4eba-930f-63e317fae2ae",
   "metadata": {},
   "outputs": [
    {
     "name": "stdout",
     "output_type": "stream",
     "text": [
      "The mean is 2.883720930232558\n"
     ]
    }
   ],
   "source": [
    "print(f\"The mean is {mean_sar}\")"
   ]
  },
  {
   "cell_type": "code",
   "execution_count": 251,
   "id": "ab203cb7-a0eb-4b5b-a237-fe0d7c2d3aeb",
   "metadata": {},
   "outputs": [],
   "source": [
    "import numpy as np\n",
    "df['SatisfactionScore'].replace(np.nan,mean_sar,inplace=True)"
   ]
  },
  {
   "cell_type": "code",
   "execution_count": 159,
   "id": "cb9bb531-a332-48dc-a1b5-a65eca6e5768",
   "metadata": {},
   "outputs": [
    {
     "data": {
      "text/plain": [
       "0                 NaN\n",
       "1                 NaN\n",
       "2      Long wait time\n",
       "3      Long wait time\n",
       "4            Too slow\n",
       "            ...      \n",
       "150    Long wait time\n",
       "151      Good service\n",
       "152      Good service\n",
       "153      Good service\n",
       "154               NaN\n",
       "Name: Feedback, Length: 155, dtype: object"
      ]
     },
     "execution_count": 159,
     "metadata": {},
     "output_type": "execute_result"
    }
   ],
   "source": [
    "df['Feedback']"
   ]
  },
  {
   "cell_type": "code",
   "execution_count": 160,
   "id": "645c0f49-bb85-4c5b-91ab-73aee716b709",
   "metadata": {},
   "outputs": [],
   "source": [
    "# df['Feedback']=df['Feedback'].ffill(inplace=True)"
   ]
  },
  {
   "cell_type": "code",
   "execution_count": 268,
   "id": "31ed5429-dd63-46dc-87ce-bda90325bbee",
   "metadata": {},
   "outputs": [
    {
     "data": {
      "text/html": [
       "<div>\n",
       "<style scoped>\n",
       "    .dataframe tbody tr th:only-of-type {\n",
       "        vertical-align: middle;\n",
       "    }\n",
       "\n",
       "    .dataframe tbody tr th {\n",
       "        vertical-align: top;\n",
       "    }\n",
       "\n",
       "    .dataframe thead th {\n",
       "        text-align: right;\n",
       "    }\n",
       "</style>\n",
       "<table border=\"1\" class=\"dataframe\">\n",
       "  <thead>\n",
       "    <tr style=\"text-align: right;\">\n",
       "      <th></th>\n",
       "      <th>PatientID</th>\n",
       "      <th>ArrivalTime</th>\n",
       "      <th>TriageLevel</th>\n",
       "      <th>TreatmentStart</th>\n",
       "      <th>TreatmentEnd</th>\n",
       "      <th>TreatmentType</th>\n",
       "      <th>DoctorID</th>\n",
       "      <th>Outcome</th>\n",
       "      <th>SatisfactionScore</th>\n",
       "      <th>Feedback</th>\n",
       "      <th>RoomID</th>\n",
       "    </tr>\n",
       "  </thead>\n",
       "  <tbody>\n",
       "    <tr>\n",
       "      <th>0</th>\n",
       "      <td>P001</td>\n",
       "      <td>01/01/2024 08:00 AM</td>\n",
       "      <td>High</td>\n",
       "      <td>NaN</td>\n",
       "      <td>2024-01-01 10:41:00</td>\n",
       "      <td>Surgery</td>\n",
       "      <td>D103</td>\n",
       "      <td>Recovered</td>\n",
       "      <td>2.0</td>\n",
       "      <td>NaN</td>\n",
       "      <td>R015</td>\n",
       "    </tr>\n",
       "    <tr>\n",
       "      <th>1</th>\n",
       "      <td>P002</td>\n",
       "      <td>01/01/2024 08:10 AM</td>\n",
       "      <td>Medium</td>\n",
       "      <td>2024-01-01 10:14:00</td>\n",
       "      <td>2024-01-01 10:47:00</td>\n",
       "      <td>Medication</td>\n",
       "      <td>D102</td>\n",
       "      <td>Recoverd</td>\n",
       "      <td>4.0</td>\n",
       "      <td>NaN</td>\n",
       "      <td>R018</td>\n",
       "    </tr>\n",
       "    <tr>\n",
       "      <th>2</th>\n",
       "      <td>P003</td>\n",
       "      <td>2024-01-01 08:20:00</td>\n",
       "      <td>High</td>\n",
       "      <td>2024-01-01 08:33:00</td>\n",
       "      <td>2024-01-01 10:15:00</td>\n",
       "      <td>Consultation</td>\n",
       "      <td>D105</td>\n",
       "      <td>Recovered</td>\n",
       "      <td>5.0</td>\n",
       "      <td>Long wait time</td>\n",
       "      <td>R014</td>\n",
       "    </tr>\n",
       "    <tr>\n",
       "      <th>3</th>\n",
       "      <td>P004</td>\n",
       "      <td>01/01/2024 08:30 AM</td>\n",
       "      <td>High</td>\n",
       "      <td>2024-01-01 09:32:00</td>\n",
       "      <td>2024-01-01 09:44:00</td>\n",
       "      <td>Surgery</td>\n",
       "      <td>D101</td>\n",
       "      <td>Recoverd</td>\n",
       "      <td>1.0</td>\n",
       "      <td>Long wait time</td>\n",
       "      <td>R016</td>\n",
       "    </tr>\n",
       "    <tr>\n",
       "      <th>4</th>\n",
       "      <td>P005</td>\n",
       "      <td>2024-01-01 08:40:00</td>\n",
       "      <td>Low</td>\n",
       "      <td>2024-01-01 09:56:00</td>\n",
       "      <td>2024-01-01 09:13:00</td>\n",
       "      <td>Consultation</td>\n",
       "      <td>D104</td>\n",
       "      <td>Deceased</td>\n",
       "      <td>NaN</td>\n",
       "      <td>Too slow</td>\n",
       "      <td>R009</td>\n",
       "    </tr>\n",
       "  </tbody>\n",
       "</table>\n",
       "</div>"
      ],
      "text/plain": [
       "  PatientID          ArrivalTime TriageLevel       TreatmentStart  \\\n",
       "0      P001  01/01/2024 08:00 AM        High                  NaN   \n",
       "1      P002  01/01/2024 08:10 AM      Medium  2024-01-01 10:14:00   \n",
       "2      P003  2024-01-01 08:20:00        High  2024-01-01 08:33:00   \n",
       "3      P004  01/01/2024 08:30 AM        High  2024-01-01 09:32:00   \n",
       "4      P005  2024-01-01 08:40:00         Low  2024-01-01 09:56:00   \n",
       "\n",
       "          TreatmentEnd TreatmentType DoctorID    Outcome  SatisfactionScore  \\\n",
       "0  2024-01-01 10:41:00       Surgery     D103  Recovered                2.0   \n",
       "1  2024-01-01 10:47:00    Medication     D102   Recoverd                4.0   \n",
       "2  2024-01-01 10:15:00  Consultation     D105  Recovered                5.0   \n",
       "3  2024-01-01 09:44:00       Surgery     D101   Recoverd                1.0   \n",
       "4  2024-01-01 09:13:00  Consultation     D104   Deceased                NaN   \n",
       "\n",
       "         Feedback RoomID  \n",
       "0             NaN   R015  \n",
       "1             NaN   R018  \n",
       "2  Long wait time   R014  \n",
       "3  Long wait time   R016  \n",
       "4        Too slow   R009  "
      ]
     },
     "execution_count": 268,
     "metadata": {},
     "output_type": "execute_result"
    }
   ],
   "source": [
    "df.head()"
   ]
  },
  {
   "cell_type": "code",
   "execution_count": 269,
   "id": "d9a914a5-7f5b-42ff-ba99-fae35511bd1a",
   "metadata": {},
   "outputs": [
    {
     "data": {
      "text/plain": [
       "<Axes: >"
      ]
     },
     "execution_count": 269,
     "metadata": {},
     "output_type": "execute_result"
    },
    {
     "data": {
      "image/png": "[encoded data removed]",
      "text/plain": [
       "<Figure size 640x480 with 1 Axes>"
      ]
     },
     "metadata": {},
     "output_type": "display_data"
    }
   ],
   "source": [
    "df.SatisfactionScore.plot(kind='box')"
   ]
  },
  {
   "cell_type": "code",
   "execution_count": 270,
   "id": "a43c0a8f-01bb-42aa-b7cf-87a617126895",
   "metadata": {},
   "outputs": [
    {
     "data": {
      "text/plain": [
       "<Axes: xlabel='Level', ylabel='Counts'>"
      ]
     },
     "execution_count": 270,
     "metadata": {},
     "output_type": "execute_result"
    },
    {
     "data": {
      "image/png": "[encoded data removed]",
      "text/plain": [
       "<Figure size 640x480 with 1 Axes>"
      ]
     },
     "metadata": {},
     "output_type": "display_data"
    }
   ],
   "source": [
    "df['TriageLevel'].value_counts().plot(kind=\"bar\",xlabel='Level',ylabel='Counts')"
   ]
  },
  {
   "cell_type": "code",
   "execution_count": 271,
   "id": "bfab210e-c123-46c8-8c51-49378095e8f8",
   "metadata": {},
   "outputs": [
    {
     "data": {
      "text/plain": [
       "<Axes: >"
      ]
     },
     "execution_count": 271,
     "metadata": {},
     "output_type": "execute_result"
    },
    {
     "data": {
      "image/png": "[encoded data removed]",
      "text/plain": [
       "<Figure size 640x480 with 1 Axes>"
      ]
     },
     "metadata": {},
     "output_type": "display_data"
    }
   ],
   "source": [
    "df['TreatmentType'].value_counts().plot(kind='box')"
   ]
  },
  {
   "cell_type": "code",
   "execution_count": 272,
   "id": "803b30b2-78c0-40f8-ad6f-386a21075344",
   "metadata": {},
   "outputs": [
    {
     "data": {
      "text/plain": [
       "TreatmentType\n",
       "Consultation    57\n",
       "Surgery         50\n",
       "Medication      48\n",
       "Name: count, dtype: int64"
      ]
     },
     "execution_count": 272,
     "metadata": {},
     "output_type": "execute_result"
    }
   ],
   "source": [
    "df['TreatmentType'].value_counts()"
   ]
  },
  {
   "cell_type": "code",
   "execution_count": 273,
   "id": "9adb8b5b-5702-4ee5-aff1-aa73fce21dcd",
   "metadata": {},
   "outputs": [
    {
     "data": {
      "text/plain": [
       "<Axes: xlabel='TreatmentType'>"
      ]
     },
     "execution_count": 273,
     "metadata": {},
     "output_type": "execute_result"
    },
    {
     "data": {
      "image/png": "[encoded data removed]",
      "text/plain": [
       "<Figure size 640x480 with 1 Axes>"
      ]
     },
     "metadata": {},
     "output_type": "display_data"
    }
   ],
   "source": [
    "df['TreatmentType'].value_counts().plot(kind='bar')"
   ]
  },
  {
   "cell_type": "code",
   "execution_count": 274,
   "id": "58e22f0f-cb56-4562-a006-99cd02b1693c",
   "metadata": {},
   "outputs": [
    {
     "data": {
      "text/plain": [
       "Outcome\n",
       "Referred     42\n",
       "Recovered    40\n",
       "Deceased     37\n",
       "Recoverd     36\n",
       "Name: count, dtype: int64"
      ]
     },
     "execution_count": 274,
     "metadata": {},
     "output_type": "execute_result"
    }
   ],
   "source": [
    "df['Outcome'].value_counts()"
   ]
  },
  {
   "cell_type": "code",
   "execution_count": 275,
   "id": "50f41eb0-f4e8-494d-8701-da431a9613d8",
   "metadata": {},
   "outputs": [],
   "source": [
    "df['Outcome'] = df['Outcome'].replace({'Recoverd': 'Recovered'})"
   ]
  },
  {
   "cell_type": "code",
   "execution_count": 276,
   "id": "6c2ce880-109a-4a8e-acf7-cf2b9a9d163d",
   "metadata": {},
   "outputs": [
    {
     "data": {
      "text/plain": [
       "<Axes: xlabel='Outcome', ylabel='Counts'>"
      ]
     },
     "execution_count": 276,
     "metadata": {},
     "output_type": "execute_result"
    },
    {
     "data": {
      "image/png": "[encoded data removed]",
      "text/plain": [
       "<Figure size 640x480 with 1 Axes>"
      ]
     },
     "metadata": {},
     "output_type": "display_data"
    }
   ],
   "source": [
    "df['Outcome'].value_counts().plot(kind='bar',ylabel='Counts')"
   ]
  },
  {
   "cell_type": "code",
   "execution_count": 277,
   "id": "3353b772-1e49-4639-8c70-ce25689fbf3b",
   "metadata": {},
   "outputs": [
    {
     "data": {
      "text/plain": [
       "<Axes: >"
      ]
     },
     "execution_count": 277,
     "metadata": {},
     "output_type": "execute_result"
    },
    {
     "data": {
      "image/png": "[encoded data removed]",
      "text/plain": [
       "<Figure size 640x480 with 1 Axes>"
      ]
     },
     "metadata": {},
     "output_type": "display_data"
    }
   ],
   "source": [
    "df['Outcome'].value_counts().plot(kind='box')"
   ]
  },
  {
   "cell_type": "markdown",
   "id": "b60f4ee8-8702-489e-b80d-957d3cbdf3c5",
   "metadata": {},
   "source": [
    "Handle missing values aswell as change data type and plot data to understand more about the data and also look for outlier now our data is\n",
    "cleaned and so "
   ]
  },
  {
   "cell_type": "code",
   "execution_count": 278,
   "id": "cf414ed0-a119-41b4-915d-f6749608bc38",
   "metadata": {},
   "outputs": [],
   "source": [
    "# df[\"Treatment Duration\"]=df['TreatmentStart']-df['TreatmentEnd']"
   ]
  },
  {
   "cell_type": "code",
   "execution_count": 279,
   "id": "cf996e3c-be59-49ce-b1ff-6547b77d4bc9",
   "metadata": {},
   "outputs": [
    {
     "data": {
      "text/plain": [
       "Index(['PatientID', 'ArrivalTime', 'TriageLevel', 'TreatmentStart',\n",
       "       'TreatmentEnd', 'TreatmentType', 'DoctorID', 'Outcome',\n",
       "       'SatisfactionScore', 'Feedback', 'RoomID'],\n",
       "      dtype='object')"
      ]
     },
     "execution_count": 279,
     "metadata": {},
     "output_type": "execute_result"
    }
   ],
   "source": [
    "df.columns"
   ]
  },
  {
   "cell_type": "code",
   "execution_count": 280,
   "id": "f546e2c8-4799-4bec-b773-48a19e8a335d",
   "metadata": {},
   "outputs": [
    {
     "data": {
      "text/html": [
       "<div>\n",
       "<style scoped>\n",
       "    .dataframe tbody tr th:only-of-type {\n",
       "        vertical-align: middle;\n",
       "    }\n",
       "\n",
       "    .dataframe tbody tr th {\n",
       "        vertical-align: top;\n",
       "    }\n",
       "\n",
       "    .dataframe thead th {\n",
       "        text-align: right;\n",
       "    }\n",
       "</style>\n",
       "<table border=\"1\" class=\"dataframe\">\n",
       "  <thead>\n",
       "    <tr style=\"text-align: right;\">\n",
       "      <th></th>\n",
       "      <th>PatientID</th>\n",
       "      <th>ArrivalTime</th>\n",
       "      <th>TriageLevel</th>\n",
       "      <th>TreatmentStart</th>\n",
       "      <th>TreatmentEnd</th>\n",
       "      <th>TreatmentType</th>\n",
       "      <th>DoctorID</th>\n",
       "      <th>Outcome</th>\n",
       "      <th>SatisfactionScore</th>\n",
       "      <th>Feedback</th>\n",
       "      <th>RoomID</th>\n",
       "    </tr>\n",
       "  </thead>\n",
       "  <tbody>\n",
       "    <tr>\n",
       "      <th>count</th>\n",
       "      <td>155</td>\n",
       "      <td>155</td>\n",
       "      <td>155</td>\n",
       "      <td>135</td>\n",
       "      <td>144</td>\n",
       "      <td>155</td>\n",
       "      <td>155</td>\n",
       "      <td>155</td>\n",
       "      <td>129.000000</td>\n",
       "      <td>120</td>\n",
       "      <td>155</td>\n",
       "    </tr>\n",
       "    <tr>\n",
       "      <th>unique</th>\n",
       "      <td>150</td>\n",
       "      <td>89</td>\n",
       "      <td>3</td>\n",
       "      <td>74</td>\n",
       "      <td>100</td>\n",
       "      <td>3</td>\n",
       "      <td>5</td>\n",
       "      <td>3</td>\n",
       "      <td>NaN</td>\n",
       "      <td>3</td>\n",
       "      <td>20</td>\n",
       "    </tr>\n",
       "    <tr>\n",
       "      <th>top</th>\n",
       "      <td>P141</td>\n",
       "      <td>01/01/2024 03:10 PM</td>\n",
       "      <td>High</td>\n",
       "      <td>2024-01-01 09:17:00</td>\n",
       "      <td>2024-01-01 08:45:00</td>\n",
       "      <td>Consultation</td>\n",
       "      <td>D104</td>\n",
       "      <td>Recovered</td>\n",
       "      <td>NaN</td>\n",
       "      <td>Good service</td>\n",
       "      <td>R002</td>\n",
       "    </tr>\n",
       "    <tr>\n",
       "      <th>freq</th>\n",
       "      <td>2</td>\n",
       "      <td>4</td>\n",
       "      <td>58</td>\n",
       "      <td>5</td>\n",
       "      <td>3</td>\n",
       "      <td>57</td>\n",
       "      <td>38</td>\n",
       "      <td>76</td>\n",
       "      <td>NaN</td>\n",
       "      <td>45</td>\n",
       "      <td>15</td>\n",
       "    </tr>\n",
       "    <tr>\n",
       "      <th>mean</th>\n",
       "      <td>NaN</td>\n",
       "      <td>NaN</td>\n",
       "      <td>NaN</td>\n",
       "      <td>NaN</td>\n",
       "      <td>NaN</td>\n",
       "      <td>NaN</td>\n",
       "      <td>NaN</td>\n",
       "      <td>NaN</td>\n",
       "      <td>2.883721</td>\n",
       "      <td>NaN</td>\n",
       "      <td>NaN</td>\n",
       "    </tr>\n",
       "    <tr>\n",
       "      <th>std</th>\n",
       "      <td>NaN</td>\n",
       "      <td>NaN</td>\n",
       "      <td>NaN</td>\n",
       "      <td>NaN</td>\n",
       "      <td>NaN</td>\n",
       "      <td>NaN</td>\n",
       "      <td>NaN</td>\n",
       "      <td>NaN</td>\n",
       "      <td>1.338305</td>\n",
       "      <td>NaN</td>\n",
       "      <td>NaN</td>\n",
       "    </tr>\n",
       "    <tr>\n",
       "      <th>min</th>\n",
       "      <td>NaN</td>\n",
       "      <td>NaN</td>\n",
       "      <td>NaN</td>\n",
       "      <td>NaN</td>\n",
       "      <td>NaN</td>\n",
       "      <td>NaN</td>\n",
       "      <td>NaN</td>\n",
       "      <td>NaN</td>\n",
       "      <td>1.000000</td>\n",
       "      <td>NaN</td>\n",
       "      <td>NaN</td>\n",
       "    </tr>\n",
       "    <tr>\n",
       "      <th>25%</th>\n",
       "      <td>NaN</td>\n",
       "      <td>NaN</td>\n",
       "      <td>NaN</td>\n",
       "      <td>NaN</td>\n",
       "      <td>NaN</td>\n",
       "      <td>NaN</td>\n",
       "      <td>NaN</td>\n",
       "      <td>NaN</td>\n",
       "      <td>2.000000</td>\n",
       "      <td>NaN</td>\n",
       "      <td>NaN</td>\n",
       "    </tr>\n",
       "    <tr>\n",
       "      <th>50%</th>\n",
       "      <td>NaN</td>\n",
       "      <td>NaN</td>\n",
       "      <td>NaN</td>\n",
       "      <td>NaN</td>\n",
       "      <td>NaN</td>\n",
       "      <td>NaN</td>\n",
       "      <td>NaN</td>\n",
       "      <td>NaN</td>\n",
       "      <td>3.000000</td>\n",
       "      <td>NaN</td>\n",
       "      <td>NaN</td>\n",
       "    </tr>\n",
       "    <tr>\n",
       "      <th>75%</th>\n",
       "      <td>NaN</td>\n",
       "      <td>NaN</td>\n",
       "      <td>NaN</td>\n",
       "      <td>NaN</td>\n",
       "      <td>NaN</td>\n",
       "      <td>NaN</td>\n",
       "      <td>NaN</td>\n",
       "      <td>NaN</td>\n",
       "      <td>4.000000</td>\n",
       "      <td>NaN</td>\n",
       "      <td>NaN</td>\n",
       "    </tr>\n",
       "    <tr>\n",
       "      <th>max</th>\n",
       "      <td>NaN</td>\n",
       "      <td>NaN</td>\n",
       "      <td>NaN</td>\n",
       "      <td>NaN</td>\n",
       "      <td>NaN</td>\n",
       "      <td>NaN</td>\n",
       "      <td>NaN</td>\n",
       "      <td>NaN</td>\n",
       "      <td>5.000000</td>\n",
       "      <td>NaN</td>\n",
       "      <td>NaN</td>\n",
       "    </tr>\n",
       "  </tbody>\n",
       "</table>\n",
       "</div>"
      ],
      "text/plain": [
       "       PatientID          ArrivalTime TriageLevel       TreatmentStart  \\\n",
       "count        155                  155         155                  135   \n",
       "unique       150                   89           3                   74   \n",
       "top         P141  01/01/2024 03:10 PM        High  2024-01-01 09:17:00   \n",
       "freq           2                    4          58                    5   \n",
       "mean         NaN                  NaN         NaN                  NaN   \n",
       "std          NaN                  NaN         NaN                  NaN   \n",
       "min          NaN                  NaN         NaN                  NaN   \n",
       "25%          NaN                  NaN         NaN                  NaN   \n",
       "50%          NaN                  NaN         NaN                  NaN   \n",
       "75%          NaN                  NaN         NaN                  NaN   \n",
       "max          NaN                  NaN         NaN                  NaN   \n",
       "\n",
       "               TreatmentEnd TreatmentType DoctorID    Outcome  \\\n",
       "count                   144           155      155        155   \n",
       "unique                  100             3        5          3   \n",
       "top     2024-01-01 08:45:00  Consultation     D104  Recovered   \n",
       "freq                      3            57       38         76   \n",
       "mean                    NaN           NaN      NaN        NaN   \n",
       "std                     NaN           NaN      NaN        NaN   \n",
       "min                     NaN           NaN      NaN        NaN   \n",
       "25%                     NaN           NaN      NaN        NaN   \n",
       "50%                     NaN           NaN      NaN        NaN   \n",
       "75%                     NaN           NaN      NaN        NaN   \n",
       "max                     NaN           NaN      NaN        NaN   \n",
       "\n",
       "        SatisfactionScore      Feedback RoomID  \n",
       "count          129.000000           120    155  \n",
       "unique                NaN             3     20  \n",
       "top                   NaN  Good service   R002  \n",
       "freq                  NaN            45     15  \n",
       "mean             2.883721           NaN    NaN  \n",
       "std              1.338305           NaN    NaN  \n",
       "min              1.000000           NaN    NaN  \n",
       "25%              2.000000           NaN    NaN  \n",
       "50%              3.000000           NaN    NaN  \n",
       "75%              4.000000           NaN    NaN  \n",
       "max              5.000000           NaN    NaN  "
      ]
     },
     "execution_count": 280,
     "metadata": {},
     "output_type": "execute_result"
    }
   ],
   "source": [
    "df.describe(include='all')"
   ]
  },
  {
   "cell_type": "code",
   "execution_count": 281,
   "id": "a149e4ab-ba79-4d49-b0f2-39acb0282190",
   "metadata": {},
   "outputs": [
    {
     "data": {
      "text/plain": [
       "<Axes: >"
      ]
     },
     "execution_count": 281,
     "metadata": {},
     "output_type": "execute_result"
    },
    {
     "data": {
      "image/png": "[encoded data removed]",
      "text/plain": [
       "<Figure size 640x480 with 1 Axes>"
      ]
     },
     "metadata": {},
     "output_type": "display_data"
    }
   ],
   "source": [
    "df.SatisfactionScore.plot(kind='box')"
   ]
  },
  {
   "cell_type": "code",
   "execution_count": 282,
   "id": "0cca18ad-a055-4c16-b793-514ff5ac8bc3",
   "metadata": {},
   "outputs": [
    {
     "data": {
      "text/plain": [
       "<Axes: >"
      ]
     },
     "execution_count": 282,
     "metadata": {},
     "output_type": "execute_result"
    },
    {
     "data": {
      "image/png": "[encoded data removed]",
      "text/plain": [
       "<Figure size 640x480 with 1 Axes>"
      ]
     },
     "metadata": {},
     "output_type": "display_data"
    }
   ],
   "source": [
    "df.SatisfactionScore.plot(kind='box')"
   ]
  },
  {
   "cell_type": "code",
   "execution_count": 283,
   "id": "4425f485-9c55-410a-b35a-b4520a68d54f",
   "metadata": {},
   "outputs": [],
   "source": [
    "x=df.TriageLevel.value_counts()"
   ]
  },
  {
   "cell_type": "code",
   "execution_count": 284,
   "id": "1fb58b51-1d9b-493e-9cb8-573cd95ac4ee",
   "metadata": {},
   "outputs": [
    {
     "data": {
      "text/plain": [
       "TriageLevel\n",
       "High      58\n",
       "Medium    51\n",
       "Low       46\n",
       "Name: count, dtype: int64"
      ]
     },
     "execution_count": 284,
     "metadata": {},
     "output_type": "execute_result"
    }
   ],
   "source": [
    "x"
   ]
  },
  {
   "cell_type": "code",
   "execution_count": 285,
   "id": "902a2d61-f569-4fb7-8f35-1b712988858e",
   "metadata": {},
   "outputs": [
    {
     "data": {
      "text/plain": [
       "<Axes: ylabel='count'>"
      ]
     },
     "execution_count": 285,
     "metadata": {},
     "output_type": "execute_result"
    },
    {
     "data": {
      "image/png": "[encoded data removed]",
      "text/plain": [
       "<Figure size 640x480 with 1 Axes>"
      ]
     },
     "metadata": {},
     "output_type": "display_data"
    }
   ],
   "source": [
    "df.TriageLevel.value_counts().plot(kind='pie',autopct='%1.1f%%')"
   ]
  },
  {
   "cell_type": "code",
   "execution_count": 286,
   "id": "f47cbdc1-e72c-41b7-889d-cbf7db02a56a",
   "metadata": {},
   "outputs": [
    {
     "data": {
      "text/plain": [
       "<Axes: ylabel='count'>"
      ]
     },
     "execution_count": 286,
     "metadata": {},
     "output_type": "execute_result"
    },
    {
     "data": {
      "image/png": "[encoded data removed]",
      "text/plain": [
       "<Figure size 640x480 with 1 Axes>"
      ]
     },
     "metadata": {},
     "output_type": "display_data"
    }
   ],
   "source": [
    "explode=[0,0,0.1,0.1,0]\n",
    "df.DoctorID.value_counts().plot(kind='pie',autopct='%1.1f%%',explode=explode)"
   ]
  },
  {
   "cell_type": "code",
   "execution_count": 287,
   "id": "124520e4-d198-4ab1-a427-c0bc1472f212",
   "metadata": {},
   "outputs": [],
   "source": [
    "x=df.DoctorID.value_counts()"
   ]
  },
  {
   "cell_type": "code",
   "execution_count": 288,
   "id": "51b1e227-acaf-4e6e-9304-7394a0dfa84d",
   "metadata": {},
   "outputs": [
    {
     "data": {
      "text/plain": [
       "DoctorID\n",
       "D104    38\n",
       "D102    34\n",
       "D105    30\n",
       "D101    27\n",
       "D103    26\n",
       "Name: count, dtype: int64"
      ]
     },
     "execution_count": 288,
     "metadata": {},
     "output_type": "execute_result"
    }
   ],
   "source": [
    "x"
   ]
  },
  {
   "cell_type": "code",
   "execution_count": 289,
   "id": "f09f1886-3014-4e7e-97d0-fabb08505758",
   "metadata": {},
   "outputs": [],
   "source": [
    "y=df.Outcome.value_counts()"
   ]
  },
  {
   "cell_type": "code",
   "execution_count": 290,
   "id": "c9992214-8ff9-4d1e-9af5-424f79e321bd",
   "metadata": {},
   "outputs": [
    {
     "data": {
      "text/plain": [
       "Outcome\n",
       "Recovered    76\n",
       "Referred     42\n",
       "Deceased     37\n",
       "Name: count, dtype: int64"
      ]
     },
     "execution_count": 290,
     "metadata": {},
     "output_type": "execute_result"
    }
   ],
   "source": [
    "y"
   ]
  },
  {
   "cell_type": "code",
   "execution_count": 291,
   "id": "5e6e47d1-1bc7-47ba-8319-23674eadd800",
   "metadata": {},
   "outputs": [],
   "source": [
    "recovered_dat=df[df['Outcome']=='Recovered']"
   ]
  },
  {
   "cell_type": "code",
   "execution_count": 292,
   "id": "33a393b4-42fc-4699-a801-39668d7df76c",
   "metadata": {},
   "outputs": [
    {
     "data": {
      "text/html": [
       "<div>\n",
       "<style scoped>\n",
       "    .dataframe tbody tr th:only-of-type {\n",
       "        vertical-align: middle;\n",
       "    }\n",
       "\n",
       "    .dataframe tbody tr th {\n",
       "        vertical-align: top;\n",
       "    }\n",
       "\n",
       "    .dataframe thead th {\n",
       "        text-align: right;\n",
       "    }\n",
       "</style>\n",
       "<table border=\"1\" class=\"dataframe\">\n",
       "  <thead>\n",
       "    <tr style=\"text-align: right;\">\n",
       "      <th></th>\n",
       "      <th>PatientID</th>\n",
       "      <th>ArrivalTime</th>\n",
       "      <th>TriageLevel</th>\n",
       "      <th>TreatmentStart</th>\n",
       "      <th>TreatmentEnd</th>\n",
       "      <th>TreatmentType</th>\n",
       "      <th>DoctorID</th>\n",
       "      <th>Outcome</th>\n",
       "      <th>SatisfactionScore</th>\n",
       "      <th>Feedback</th>\n",
       "      <th>RoomID</th>\n",
       "    </tr>\n",
       "  </thead>\n",
       "  <tbody>\n",
       "    <tr>\n",
       "      <th>0</th>\n",
       "      <td>P001</td>\n",
       "      <td>01/01/2024 08:00 AM</td>\n",
       "      <td>High</td>\n",
       "      <td>NaN</td>\n",
       "      <td>2024-01-01 10:41:00</td>\n",
       "      <td>Surgery</td>\n",
       "      <td>D103</td>\n",
       "      <td>Recovered</td>\n",
       "      <td>2.0</td>\n",
       "      <td>NaN</td>\n",
       "      <td>R015</td>\n",
       "    </tr>\n",
       "    <tr>\n",
       "      <th>1</th>\n",
       "      <td>P002</td>\n",
       "      <td>01/01/2024 08:10 AM</td>\n",
       "      <td>Medium</td>\n",
       "      <td>2024-01-01 10:14:00</td>\n",
       "      <td>2024-01-01 10:47:00</td>\n",
       "      <td>Medication</td>\n",
       "      <td>D102</td>\n",
       "      <td>Recovered</td>\n",
       "      <td>4.0</td>\n",
       "      <td>NaN</td>\n",
       "      <td>R018</td>\n",
       "    </tr>\n",
       "    <tr>\n",
       "      <th>2</th>\n",
       "      <td>P003</td>\n",
       "      <td>2024-01-01 08:20:00</td>\n",
       "      <td>High</td>\n",
       "      <td>2024-01-01 08:33:00</td>\n",
       "      <td>2024-01-01 10:15:00</td>\n",
       "      <td>Consultation</td>\n",
       "      <td>D105</td>\n",
       "      <td>Recovered</td>\n",
       "      <td>5.0</td>\n",
       "      <td>Long wait time</td>\n",
       "      <td>R014</td>\n",
       "    </tr>\n",
       "    <tr>\n",
       "      <th>3</th>\n",
       "      <td>P004</td>\n",
       "      <td>01/01/2024 08:30 AM</td>\n",
       "      <td>High</td>\n",
       "      <td>2024-01-01 09:32:00</td>\n",
       "      <td>2024-01-01 09:44:00</td>\n",
       "      <td>Surgery</td>\n",
       "      <td>D101</td>\n",
       "      <td>Recovered</td>\n",
       "      <td>1.0</td>\n",
       "      <td>Long wait time</td>\n",
       "      <td>R016</td>\n",
       "    </tr>\n",
       "    <tr>\n",
       "      <th>9</th>\n",
       "      <td>P010</td>\n",
       "      <td>01/01/2024 09:30 AM</td>\n",
       "      <td>Low</td>\n",
       "      <td>2024-01-01 09:28:00</td>\n",
       "      <td>2024-01-01 09:23:00</td>\n",
       "      <td>Consultation</td>\n",
       "      <td>D104</td>\n",
       "      <td>Recovered</td>\n",
       "      <td>4.0</td>\n",
       "      <td>Good service</td>\n",
       "      <td>R004</td>\n",
       "    </tr>\n",
       "    <tr>\n",
       "      <th>...</th>\n",
       "      <td>...</td>\n",
       "      <td>...</td>\n",
       "      <td>...</td>\n",
       "      <td>...</td>\n",
       "      <td>...</td>\n",
       "      <td>...</td>\n",
       "      <td>...</td>\n",
       "      <td>...</td>\n",
       "      <td>...</td>\n",
       "      <td>...</td>\n",
       "      <td>...</td>\n",
       "    </tr>\n",
       "    <tr>\n",
       "      <th>146</th>\n",
       "      <td>P147</td>\n",
       "      <td>01/01/2024 03:40 PM</td>\n",
       "      <td>Medium</td>\n",
       "      <td>2024-01-01 09:16:00</td>\n",
       "      <td>2024-01-01 09:31:00</td>\n",
       "      <td>Consultation</td>\n",
       "      <td>D101</td>\n",
       "      <td>Recovered</td>\n",
       "      <td>1.0</td>\n",
       "      <td>Too slow</td>\n",
       "      <td>R002</td>\n",
       "    </tr>\n",
       "    <tr>\n",
       "      <th>147</th>\n",
       "      <td>P148</td>\n",
       "      <td>01/01/2024 03:50 PM</td>\n",
       "      <td>Low</td>\n",
       "      <td>2024-01-01 09:34:00</td>\n",
       "      <td>2024-01-01 08:58:00</td>\n",
       "      <td>Consultation</td>\n",
       "      <td>D101</td>\n",
       "      <td>Recovered</td>\n",
       "      <td>NaN</td>\n",
       "      <td>NaN</td>\n",
       "      <td>R011</td>\n",
       "    </tr>\n",
       "    <tr>\n",
       "      <th>149</th>\n",
       "      <td>P150</td>\n",
       "      <td>01/01/2024 04:10 PM</td>\n",
       "      <td>High</td>\n",
       "      <td>2024-01-01 09:24:00</td>\n",
       "      <td>2024-01-01 09:57:00</td>\n",
       "      <td>Surgery</td>\n",
       "      <td>D105</td>\n",
       "      <td>Recovered</td>\n",
       "      <td>5.0</td>\n",
       "      <td>Long wait time</td>\n",
       "      <td>R013</td>\n",
       "    </tr>\n",
       "    <tr>\n",
       "      <th>150</th>\n",
       "      <td>P055</td>\n",
       "      <td>2024-01-01 08:40:00</td>\n",
       "      <td>Medium</td>\n",
       "      <td>2024-01-01 09:17:00</td>\n",
       "      <td>2024-01-01 11:00:00</td>\n",
       "      <td>Consultation</td>\n",
       "      <td>D101</td>\n",
       "      <td>Recovered</td>\n",
       "      <td>1.0</td>\n",
       "      <td>Long wait time</td>\n",
       "      <td>R014</td>\n",
       "    </tr>\n",
       "    <tr>\n",
       "      <th>152</th>\n",
       "      <td>P094</td>\n",
       "      <td>01/01/2024 03:10 PM</td>\n",
       "      <td>Medium</td>\n",
       "      <td>2024-01-01 09:38:00</td>\n",
       "      <td>2024-01-01 09:56:00</td>\n",
       "      <td>Surgery</td>\n",
       "      <td>D105</td>\n",
       "      <td>Recovered</td>\n",
       "      <td>3.0</td>\n",
       "      <td>Good service</td>\n",
       "      <td>R016</td>\n",
       "    </tr>\n",
       "  </tbody>\n",
       "</table>\n",
       "<p>76 rows × 11 columns</p>\n",
       "</div>"
      ],
      "text/plain": [
       "    PatientID          ArrivalTime TriageLevel       TreatmentStart  \\\n",
       "0        P001  01/01/2024 08:00 AM        High                  NaN   \n",
       "1        P002  01/01/2024 08:10 AM      Medium  2024-01-01 10:14:00   \n",
       "2        P003  2024-01-01 08:20:00        High  2024-01-01 08:33:00   \n",
       "3        P004  01/01/2024 08:30 AM        High  2024-01-01 09:32:00   \n",
       "9        P010  01/01/2024 09:30 AM         Low  2024-01-01 09:28:00   \n",
       "..        ...                  ...         ...                  ...   \n",
       "146      P147  01/01/2024 03:40 PM      Medium  2024-01-01 09:16:00   \n",
       "147      P148  01/01/2024 03:50 PM         Low  2024-01-01 09:34:00   \n",
       "149      P150  01/01/2024 04:10 PM        High  2024-01-01 09:24:00   \n",
       "150      P055  2024-01-01 08:40:00      Medium  2024-01-01 09:17:00   \n",
       "152      P094  01/01/2024 03:10 PM      Medium  2024-01-01 09:38:00   \n",
       "\n",
       "            TreatmentEnd TreatmentType DoctorID    Outcome  SatisfactionScore  \\\n",
       "0    2024-01-01 10:41:00       Surgery     D103  Recovered                2.0   \n",
       "1    2024-01-01 10:47:00    Medication     D102  Recovered                4.0   \n",
       "2    2024-01-01 10:15:00  Consultation     D105  Recovered                5.0   \n",
       "3    2024-01-01 09:44:00       Surgery     D101  Recovered                1.0   \n",
       "9    2024-01-01 09:23:00  Consultation     D104  Recovered                4.0   \n",
       "..                   ...           ...      ...        ...                ...   \n",
       "146  2024-01-01 09:31:00  Consultation     D101  Recovered                1.0   \n",
       "147  2024-01-01 08:58:00  Consultation     D101  Recovered                NaN   \n",
       "149  2024-01-01 09:57:00       Surgery     D105  Recovered                5.0   \n",
       "150  2024-01-01 11:00:00  Consultation     D101  Recovered                1.0   \n",
       "152  2024-01-01 09:56:00       Surgery     D105  Recovered                3.0   \n",
       "\n",
       "           Feedback RoomID  \n",
       "0               NaN   R015  \n",
       "1               NaN   R018  \n",
       "2    Long wait time   R014  \n",
       "3    Long wait time   R016  \n",
       "9      Good service   R004  \n",
       "..              ...    ...  \n",
       "146        Too slow   R002  \n",
       "147             NaN   R011  \n",
       "149  Long wait time   R013  \n",
       "150  Long wait time   R014  \n",
       "152    Good service   R016  \n",
       "\n",
       "[76 rows x 11 columns]"
      ]
     },
     "execution_count": 292,
     "metadata": {},
     "output_type": "execute_result"
    }
   ],
   "source": [
    "recovered_dat"
   ]
  },
  {
   "cell_type": "code",
   "execution_count": 293,
   "id": "3039283b-b716-4e18-a970-e323b8aa8b5a",
   "metadata": {},
   "outputs": [],
   "source": [
    "count_with_dr_id=recovered_dat.groupby('DoctorID').size()"
   ]
  },
  {
   "cell_type": "code",
   "execution_count": 294,
   "id": "60dcc5b7-0b8f-49bc-841a-476a8249ca29",
   "metadata": {},
   "outputs": [
    {
     "name": "stdout",
     "output_type": "stream",
     "text": [
      "DoctorID\n",
      "D101    18\n",
      "D102     8\n",
      "D103    14\n",
      "D104    18\n",
      "D105    18\n",
      "dtype: int64\n"
     ]
    }
   ],
   "source": [
    "print(count_with_dr_id)"
   ]
  },
  {
   "cell_type": "code",
   "execution_count": 295,
   "id": "76b7ffd7-4ada-4d4d-aa60-f663b997ead7",
   "metadata": {},
   "outputs": [
    {
     "data": {
      "text/plain": [
       "<Axes: title={'center': 'Recovery By Each Doctor'}, xlabel='DoctorID', ylabel='Counts of recovered'>"
      ]
     },
     "execution_count": 295,
     "metadata": {},
     "output_type": "execute_result"
    },
    {
     "data": {
      "image/png": "[encoded data removed]",
      "text/plain": [
       "<Figure size 640x480 with 1 Axes>"
      ]
     },
     "metadata": {},
     "output_type": "display_data"
    }
   ],
   "source": [
    "count_with_dr_id.plot(kind='bar',ylabel='Counts of recovered',title=\"Recovery By Each Doctor\")"
   ]
  },
  {
   "cell_type": "code",
   "execution_count": 296,
   "id": "8b8808b3-9ad5-4308-af9e-2ab7196273c1",
   "metadata": {},
   "outputs": [
    {
     "data": {
      "text/plain": [
       "Outcome\n",
       "Recovered    76\n",
       "Referred     42\n",
       "Deceased     37\n",
       "Name: count, dtype: int64"
      ]
     },
     "execution_count": 296,
     "metadata": {},
     "output_type": "execute_result"
    }
   ],
   "source": [
    "df.Outcome.value_counts()"
   ]
  },
  {
   "cell_type": "code",
   "execution_count": 297,
   "id": "e7a0c44a-9b35-46d6-b9cd-2f359719b526",
   "metadata": {},
   "outputs": [],
   "source": [
    "deceased_data=df[df['Outcome']=='Deceased']"
   ]
  },
  {
   "cell_type": "code",
   "execution_count": 298,
   "id": "8dbf0bf9-7bc9-43ac-b785-732487732bde",
   "metadata": {},
   "outputs": [],
   "source": [
    "count_death=deceased_data.groupby('DoctorID').size()"
   ]
  },
  {
   "cell_type": "code",
   "execution_count": 299,
   "id": "4679cfc9-b27a-4b3a-81dc-00b5aca6af55",
   "metadata": {},
   "outputs": [
    {
     "data": {
      "text/plain": [
       "DoctorID\n",
       "D101     2\n",
       "D102    13\n",
       "D103     5\n",
       "D104     8\n",
       "D105     9\n",
       "dtype: int64"
      ]
     },
     "execution_count": 299,
     "metadata": {},
     "output_type": "execute_result"
    }
   ],
   "source": [
    "count_death"
   ]
  },
  {
   "cell_type": "code",
   "execution_count": 300,
   "id": "d6a00032-f1ee-4a36-8368-3b8c62a1ecbe",
   "metadata": {},
   "outputs": [
    {
     "data": {
      "text/plain": [
       "<Axes: title={'center': 'Deceased By Each Dr'}, xlabel='DoctorID', ylabel='Counts of death'>"
      ]
     },
     "execution_count": 300,
     "metadata": {},
     "output_type": "execute_result"
    },
    {
     "data": {
      "image/png": "[encoded data removed]",
      "text/plain": [
       "<Figure size 640x480 with 1 Axes>"
      ]
     },
     "metadata": {},
     "output_type": "display_data"
    }
   ],
   "source": [
    "count_death.plot(kind='bar',ylabel='Counts of death',title='Deceased By Each Dr')"
   ]
  },
  {
   "cell_type": "code",
   "execution_count": 301,
   "id": "0d96b815-c46b-46ea-ae52-63f6140f4ecb",
   "metadata": {},
   "outputs": [],
   "source": [
    "satis_mean=df.groupby('DoctorID')['SatisfactionScore'].mean()"
   ]
  },
  {
   "cell_type": "code",
   "execution_count": 302,
   "id": "023807aa-f58a-4be7-9173-712bf169d423",
   "metadata": {},
   "outputs": [
    {
     "data": {
      "text/plain": [
       "DoctorID\n",
       "D101    2.000000\n",
       "D102    3.000000\n",
       "D103    3.050000\n",
       "D104    2.866667\n",
       "D105    3.423077\n",
       "Name: SatisfactionScore, dtype: float64"
      ]
     },
     "execution_count": 302,
     "metadata": {},
     "output_type": "execute_result"
    }
   ],
   "source": [
    "satis_mean"
   ]
  },
  {
   "cell_type": "code",
   "execution_count": 303,
   "id": "e7ab94bd-4f80-45d0-bced-46bf2a993ad0",
   "metadata": {},
   "outputs": [
    {
     "data": {
      "image/png": "[encoded data removed]",
      "text/plain": [
       "<Figure size 640x480 with 1 Axes>"
      ]
     },
     "metadata": {},
     "output_type": "display_data"
    }
   ],
   "source": [
    "import matplotlib.pyplot as plt\n",
    "satis_mean.plot(kind='bar',ylabel=\"Score\",title=\"Satisfaction Score Of Each Doctor\",color=[\"SkyBlue\"])\n",
    "plt.show()"
   ]
  },
  {
   "cell_type": "code",
   "execution_count": 304,
   "id": "7c78c40f-e86c-404d-bb53-b44b6220f4f2",
   "metadata": {},
   "outputs": [
    {
     "data": {
      "text/plain": [
       "Index(['PatientID', 'ArrivalTime', 'TriageLevel', 'TreatmentStart',\n",
       "       'TreatmentEnd', 'TreatmentType', 'DoctorID', 'Outcome',\n",
       "       'SatisfactionScore', 'Feedback', 'RoomID'],\n",
       "      dtype='object')"
      ]
     },
     "execution_count": 304,
     "metadata": {},
     "output_type": "execute_result"
    }
   ],
   "source": [
    "df.columns"
   ]
  },
  {
   "cell_type": "code",
   "execution_count": 305,
   "id": "19a2e8f5-a0de-4677-8a78-7fc017bd4672",
   "metadata": {},
   "outputs": [],
   "source": [
    "df_Tr_sat=df.groupby('TriageLevel')['SatisfactionScore']"
   ]
  },
  {
   "cell_type": "code",
   "execution_count": 306,
   "id": "1398bb0f-66d3-4f25-b515-eed236cbae62",
   "metadata": {},
   "outputs": [],
   "source": [
    "df_mean_tr_sat=df_Tr_sat.mean()"
   ]
  },
  {
   "cell_type": "code",
   "execution_count": 307,
   "id": "5e0b5062-6c6f-440e-8682-d298827fe130",
   "metadata": {},
   "outputs": [
    {
     "data": {
      "text/plain": [
       "<Axes: title={'center': 'Satisfaction Score By Each Triag'}, xlabel='TriageLevel', ylabel='Score'>"
      ]
     },
     "execution_count": 307,
     "metadata": {},
     "output_type": "execute_result"
    },
    {
     "data": {
      "image/png": "[encoded data removed]",
      "text/plain": [
       "<Figure size 640x480 with 1 Axes>"
      ]
     },
     "metadata": {},
     "output_type": "display_data"
    }
   ],
   "source": [
    "df_mean_tr_sat.plot(kind='bar',ylabel=\"Score\",title=\"Satisfaction Score By Each Triag\")"
   ]
  },
  {
   "cell_type": "code",
   "execution_count": 308,
   "id": "492da748-005b-49c7-9e7a-29e58b516ed7",
   "metadata": {},
   "outputs": [],
   "source": [
    "x=df.Feedback.value_counts()"
   ]
  },
  {
   "cell_type": "code",
   "execution_count": 309,
   "id": "fac1f3c5-1972-4262-b6ec-e27322a89716",
   "metadata": {},
   "outputs": [
    {
     "data": {
      "image/png": "[encoded data removed]",
      "text/plain": [
       "<Figure size 640x480 with 1 Axes>"
      ]
     },
     "metadata": {},
     "output_type": "display_data"
    }
   ],
   "source": [
    "# Plot DoctorID vs Outcome\n",
    "df.groupby(['DoctorID', 'Feedback']).size().unstack().plot(kind='bar', stacked=True, xlabel='DoctorID', ylabel='Count', title='DoctorID vs Feedback')\n",
    "\n",
    "# Show the plot\n",
    "plt.show()\n"
   ]
  },
  {
   "cell_type": "code",
   "execution_count": 310,
   "id": "b3297065-7218-4c9a-9610-84e362825329",
   "metadata": {},
   "outputs": [
    {
     "data": {
      "text/plain": [
       "Index(['PatientID', 'ArrivalTime', 'TriageLevel', 'TreatmentStart',\n",
       "       'TreatmentEnd', 'TreatmentType', 'DoctorID', 'Outcome',\n",
       "       'SatisfactionScore', 'Feedback', 'RoomID'],\n",
       "      dtype='object')"
      ]
     },
     "execution_count": 310,
     "metadata": {},
     "output_type": "execute_result"
    }
   ],
   "source": [
    "df.columns"
   ]
  },
  {
   "cell_type": "code",
   "execution_count": 311,
   "id": "c1d21590-97d9-4684-b58c-e61a4e24bde1",
   "metadata": {},
   "outputs": [
    {
     "data": {
      "text/plain": [
       "TreatmentType\n",
       "Consultation    57\n",
       "Surgery         50\n",
       "Medication      48\n",
       "Name: count, dtype: int64"
      ]
     },
     "execution_count": 311,
     "metadata": {},
     "output_type": "execute_result"
    }
   ],
   "source": [
    "df.TreatmentType.value_counts()"
   ]
  },
  {
   "cell_type": "code",
   "execution_count": 312,
   "id": "5ea28082-68df-4909-a6bd-1880a5ca2856",
   "metadata": {},
   "outputs": [
    {
     "data": {
      "text/plain": [
       "<Axes: title={'center': 'Doctor Id Vs Treatment Type'}, xlabel='DoctorID', ylabel='Counts'>"
      ]
     },
     "execution_count": 312,
     "metadata": {},
     "output_type": "execute_result"
    },
    {
     "data": {
      "image/png": "[encoded data removed]",
      "text/plain": [
       "<Figure size 640x480 with 1 Axes>"
      ]
     },
     "metadata": {},
     "output_type": "display_data"
    }
   ],
   "source": [
    "df.groupby(['DoctorID','TreatmentType']).size().unstack().plot(kind='bar',ylabel='Counts',title=\"Doctor Id Vs Treatment Type\",color=['SkyBlue','LightGreen','Red'])"
   ]
  },
  {
   "cell_type": "code",
   "execution_count": 313,
   "id": "3210b4c7-f36e-4362-ba7b-96a66f3b6f7e",
   "metadata": {},
   "outputs": [],
   "source": [
    "df.to_csv(\"cleaned_hospital_data.csv\",index=False)"
   ]
  },
  {
   "cell_type": "code",
   "execution_count": 314,
   "id": "ab97ea1c-888c-48ef-a2f4-d2dfd8146c9e",
   "metadata": {},
   "outputs": [],
   "source": [
    "import os"
   ]
  },
  {
   "cell_type": "code",
   "execution_count": 315,
   "id": "9df6800d-68e9-4ed3-8081-39ade446405f",
   "metadata": {},
   "outputs": [
    {
     "data": {
      "text/plain": [
       "'C:\\\\Users\\\\Abdullah'"
      ]
     },
     "execution_count": 315,
     "metadata": {},
     "output_type": "execute_result"
    }
   ],
   "source": [
    "os.getcwd()"
   ]
  },
  {
   "cell_type": "code",
   "execution_count": 316,
   "id": "7e12844b-b0ba-4260-b24a-fd8c4c397589",
   "metadata": {},
   "outputs": [
    {
     "data": {
      "text/plain": [
       "Index(['PatientID', 'ArrivalTime', 'TriageLevel', 'TreatmentStart',\n",
       "       'TreatmentEnd', 'TreatmentType', 'DoctorID', 'Outcome',\n",
       "       'SatisfactionScore', 'Feedback', 'RoomID'],\n",
       "      dtype='object')"
      ]
     },
     "execution_count": 316,
     "metadata": {},
     "output_type": "execute_result"
    }
   ],
   "source": [
    "df.columns"
   ]
  },
  {
   "cell_type": "code",
   "execution_count": 327,
   "id": "5441e30a-6735-4d0a-9030-c2d24298aef2",
   "metadata": {},
   "outputs": [],
   "source": [
    "df['ArrivalTime']=pd.to_datetime(df['ArrivalTime'],errors='coerce')"
   ]
  },
  {
   "cell_type": "code",
   "execution_count": 328,
   "id": "89952bc4-33eb-46e5-bdfd-159ccc966c34",
   "metadata": {},
   "outputs": [],
   "source": [
    "df['Arival Hour']=df['ArrivalTime'].dt.hour"
   ]
  },
  {
   "cell_type": "code",
   "execution_count": 330,
   "id": "65b0e29b-fcb7-45d5-818b-61f4c7516dda",
   "metadata": {},
   "outputs": [],
   "source": [
    "peak_hour=df.groupby(df['Arival Hour']).size()"
   ]
  },
  {
   "cell_type": "code",
   "execution_count": 331,
   "id": "652c6a0e-d58d-4e0f-9719-6c285dd0fadf",
   "metadata": {},
   "outputs": [
    {
     "data": {
      "text/plain": [
       "<Axes: xlabel='Arival Hour', ylabel='Count of patient'>"
      ]
     },
     "execution_count": 331,
     "metadata": {},
     "output_type": "execute_result"
    },
    {
     "data": {
      "image/png": "[encoded data removed]",
      "text/plain": [
       "<Figure size 640x480 with 1 Axes>"
      ]
     },
     "metadata": {},
     "output_type": "display_data"
    }
   ],
   "source": [
    "peak_hour.plot(kind='bar',ylabel='Count of patient')"
   ]
  },
  {
   "cell_type": "code",
   "execution_count": 332,
   "id": "95218b02-f982-404c-981c-830d79b8b24c",
   "metadata": {},
   "outputs": [
    {
     "data": {
      "text/plain": [
       "Index(['PatientID', 'ArrivalTime', 'TriageLevel', 'TreatmentStart',\n",
       "       'TreatmentEnd', 'TreatmentType', 'DoctorID', 'Outcome',\n",
       "       'SatisfactionScore', 'Feedback', 'RoomID', 'Arival Hour'],\n",
       "      dtype='object')"
      ]
     },
     "execution_count": 332,
     "metadata": {},
     "output_type": "execute_result"
    }
   ],
   "source": [
    "df.columns"
   ]
  },
  {
   "cell_type": "code",
   "execution_count": 334,
   "id": "d2edc08c-5c3a-4161-9cf9-1671fb380b10",
   "metadata": {},
   "outputs": [],
   "source": [
    "df['TreatmentStart']=pd.to_datetime(df['TreatmentStart'])"
   ]
  },
  {
   "cell_type": "code",
   "execution_count": 335,
   "id": "a5da7e88-f35e-4d3c-bb11-35df868e2518",
   "metadata": {},
   "outputs": [],
   "source": [
    "df['Treatment_start_hour']=df['TreatmentStart'].dt.hour"
   ]
  },
  {
   "cell_type": "code",
   "execution_count": 337,
   "id": "20eb9139-235a-47db-a75b-44da13c469f7",
   "metadata": {},
   "outputs": [
    {
     "data": {
      "text/plain": [
       "<Axes: xlabel='Treatment_start_hour'>"
      ]
     },
     "execution_count": 337,
     "metadata": {},
     "output_type": "execute_result"
    },
    {
     "data": {
      "image/png": "[encoded data removed]",
      "text/plain": [
       "<Figure size 640x480 with 1 Axes>"
      ]
     },
     "metadata": {},
     "output_type": "display_data"
    }
   ],
   "source": [
    "df['Treatment_start_hour'].value_counts().plot(kind='bar')"
   ]
  },
  {
   "cell_type": "code",
   "execution_count": 338,
   "id": "2cefc2dd-516e-4234-9e15-25e9debfebce",
   "metadata": {},
   "outputs": [],
   "source": [
    "peak_start_hour=df.groupby(df['Treatment_start_hour']).size()"
   ]
  },
  {
   "cell_type": "code",
   "execution_count": 341,
   "id": "ff62dac6-8030-4d6a-b9cf-de58cb180160",
   "metadata": {},
   "outputs": [
    {
     "data": {
      "text/plain": [
       "<Axes: xlabel='Treatment_start_hour'>"
      ]
     },
     "execution_count": 341,
     "metadata": {},
     "output_type": "execute_result"
    },
    {
     "data": {
      "image/png": "[encoded data removed]",
      "text/plain": [
       "<Figure size 640x480 with 1 Axes>"
      ]
     },
     "metadata": {},
     "output_type": "display_data"
    }
   ],
   "source": [
    "peak_start_hour.plot(kind='bar',color=\"SkyBlue\")"
   ]
  },
  {
   "cell_type": "code",
   "execution_count": 342,
   "id": "7a0603b7-8d7e-4f53-b516-11f9b6f0efce",
   "metadata": {},
   "outputs": [],
   "source": [
    "df['TreatmentEnd']=pd.to_datetime(df['TreatmentEnd'])"
   ]
  },
  {
   "cell_type": "code",
   "execution_count": 343,
   "id": "fb38c671-596c-4f6b-a966-96ae4859a516",
   "metadata": {},
   "outputs": [],
   "source": [
    "df['Treatment_end_hour']=df['TreatmentEnd'].dt.hour"
   ]
  },
  {
   "cell_type": "code",
   "execution_count": 344,
   "id": "37a1a9dc-2b6d-4ff1-ae0b-9fdb04c4b84e",
   "metadata": {},
   "outputs": [
    {
     "data": {
      "text/plain": [
       "Index(['PatientID', 'ArrivalTime', 'TriageLevel', 'TreatmentStart',\n",
       "       'TreatmentEnd', 'TreatmentType', 'DoctorID', 'Outcome',\n",
       "       'SatisfactionScore', 'Feedback', 'RoomID', 'Arival Hour',\n",
       "       'Treatment_start_hour', 'Treatment_end_hour'],\n",
       "      dtype='object')"
      ]
     },
     "execution_count": 344,
     "metadata": {},
     "output_type": "execute_result"
    }
   ],
   "source": [
    "df.columns"
   ]
  },
  {
   "cell_type": "code",
   "execution_count": 348,
   "id": "01917b75-6665-4b39-bdac-d836c8acb98b",
   "metadata": {},
   "outputs": [],
   "source": [
    "df['Treatment_duration_hour']=df['Treatment_end_hour']-df['Treatment_start_hour']"
   ]
  },
  {
   "cell_type": "code",
   "execution_count": 349,
   "id": "98b10132-29ba-4135-851b-eb5633dd14a8",
   "metadata": {},
   "outputs": [],
   "source": [
    "# df.drop(columns=['Treatment_duration_hour'])"
   ]
  },
  {
   "cell_type": "code",
   "execution_count": 350,
   "id": "08cff5d4-81e3-4867-8594-e08306d19894",
   "metadata": {},
   "outputs": [
    {
     "data": {
      "text/plain": [
       "0      NaN\n",
       "1      0.0\n",
       "2      2.0\n",
       "3      0.0\n",
       "4      0.0\n",
       "      ... \n",
       "150    2.0\n",
       "151    1.0\n",
       "152    0.0\n",
       "153    1.0\n",
       "154    1.0\n",
       "Name: Treatment_duration_hour, Length: 155, dtype: float64"
      ]
     },
     "execution_count": 350,
     "metadata": {},
     "output_type": "execute_result"
    }
   ],
   "source": [
    "df.Treatment_duration_hour"
   ]
  },
  {
   "cell_type": "code",
   "execution_count": 351,
   "id": "790c6637-d403-45ee-9927-64d79b3c2024",
   "metadata": {},
   "outputs": [
    {
     "data": {
      "text/plain": [
       "Index(['PatientID', 'ArrivalTime', 'TriageLevel', 'TreatmentStart',\n",
       "       'TreatmentEnd', 'TreatmentType', 'DoctorID', 'Outcome',\n",
       "       'SatisfactionScore', 'Feedback', 'RoomID', 'Arival Hour',\n",
       "       'Treatment_start_hour', 'Treatment_end_hour',\n",
       "       'Treatment_duration_hour'],\n",
       "      dtype='object')"
      ]
     },
     "execution_count": 351,
     "metadata": {},
     "output_type": "execute_result"
    }
   ],
   "source": [
    "df.columns"
   ]
  },
  {
   "cell_type": "code",
   "execution_count": 352,
   "id": "b1b10ab3-1574-4297-be6a-811175445cae",
   "metadata": {},
   "outputs": [],
   "source": [
    "df.to_csv(\"cleaned_hospital_new.csv\")"
   ]
  },
  {
   "cell_type": "code",
   "execution_count": 353,
   "id": "b0a126f3-8290-4b91-ada1-824ab2647362",
   "metadata": {},
   "outputs": [
    {
     "data": {
      "text/plain": [
       "'C:\\\\Users\\\\Abdullah'"
      ]
     },
     "execution_count": 353,
     "metadata": {},
     "output_type": "execute_result"
    }
   ],
   "source": [
    "os.getcwd()"
   ]
  },
  {
   "cell_type": "code",
   "execution_count": 354,
   "id": "f1d8fcd8-13e6-4b26-aefb-cead8f5a77b2",
   "metadata": {},
   "outputs": [
    {
     "data": {
      "text/plain": [
       "Index(['PatientID', 'ArrivalTime', 'TriageLevel', 'TreatmentStart',\n",
       "       'TreatmentEnd', 'TreatmentType', 'DoctorID', 'Outcome',\n",
       "       'SatisfactionScore', 'Feedback', 'RoomID', 'Arival Hour',\n",
       "       'Treatment_start_hour', 'Treatment_end_hour',\n",
       "       'Treatment_duration_hour'],\n",
       "      dtype='object')"
      ]
     },
     "execution_count": 354,
     "metadata": {},
     "output_type": "execute_result"
    }
   ],
   "source": [
    "df.columns"
   ]
  },
  {
   "cell_type": "code",
   "execution_count": 359,
   "id": "4f0db03d-62a1-4846-bf3b-3550cef2afe8",
   "metadata": {},
   "outputs": [
    {
     "data": {
      "text/plain": [
       "0       8.0\n",
       "1       8.0\n",
       "2       NaN\n",
       "3       8.0\n",
       "4       NaN\n",
       "       ... \n",
       "150     NaN\n",
       "151     NaN\n",
       "152    15.0\n",
       "153    14.0\n",
       "154    11.0\n",
       "Name: Arival Hour, Length: 155, dtype: float64"
      ]
     },
     "execution_count": 359,
     "metadata": {},
     "output_type": "execute_result"
    }
   ],
   "source": [
    "df['Arival Hour']"
   ]
  },
  {
   "cell_type": "code",
   "execution_count": null,
   "id": "48bd94a0-8573-4be9-b808-010f43aaefef",
   "metadata": {},
   "outputs": [],
   "source": []
  }
 ],
 "metadata": {
  "kernelspec": {
   "display_name": "Python 3 (ipykernel)",
   "language": "python",
   "name": "python3"
  },
  "language_info": {
   "codemirror_mode": {
    "name": "ipython",
    "version": 3
   },
   "file_extension": ".py",
   "mimetype": "text/x-python",
   "name": "python",
   "nbconvert_exporter": "python",
   "pygments_lexer": "ipython3",
   "version": "3.11.7"
  }
 },
 "nbformat": 4,
 "nbformat_minor": 5
}
